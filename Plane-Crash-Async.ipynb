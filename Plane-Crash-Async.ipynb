{
 "cells": [
  {
   "cell_type": "markdown",
   "metadata": {},
   "source": [
    "# Plain Crash data harvesting"
   ]
  },
  {
   "cell_type": "markdown",
   "metadata": {},
   "source": [
    "## Purpose\n",
    "- This is a simple Python program, which showcases \"concurrency\" and functional programming aspects of Python language\n",
    "- Let's say that we want to invest in an airflight carrier, so we want to analyse historical plane crashes\n",
    "- There is an interesting website, which contains 100 years of historical plane crashes, but it doesn't provide an API, so we will harvest the data using alternative methods\n",
    "- **Note:** this is not a production quality code. Normally this would be exported to .py file(s), properly documented using doc strings, most likely wrapped in a class(es) with single responsibility methods and much more efficient data processing libraries used (numpy, pandas, etc.)\n",
    "- **Note2:** we will utilise asyncronous programming paradigm as we will be dealing with slow IO (remote API requests)"
   ]
  },
  {
   "cell_type": "markdown",
   "metadata": {},
   "source": [
    "## Website info\n",
    "\n",
    "##### The aviation accident database includes: \n",
    "\n",
    "- All civil and commercial aviation accidents of scheduled and non-scheduled passenger airliners worldwide, which resulted in a fatality (including all U.S. Part 121 and Part 135 fatal accidents)\n",
    "- All cargo, positioning, ferry and test flight fatal accidents. \n",
    "- All military transport accidents with 10 or more fatalities.\n",
    "- All commercial and military helicopter accidents with greater than 10 fatalities.\n",
    "- All civil and military airship accidents involving fatalities.\n",
    "- Aviation accidents involving the death of famous people. \n",
    "- Aviation accidents or incidents of noteworthy interest.\n",
    "\n",
    "##### URL: http://www.planecrashinfo.com"
   ]
  },
  {
   "cell_type": "markdown",
   "metadata": {},
   "source": [
    "##### Raw \"interesting\" data is in the bottom of the database.htm page:"
   ]
  },
  {
   "cell_type": "markdown",
   "metadata": {},
   "source": [
    "<img src=\"year_list.png\"/>"
   ]
  },
  {
   "cell_type": "code",
   "execution_count": 370,
   "metadata": {},
   "outputs": [
    {
     "data": {
      "text/html": [
       "\n",
       "        <iframe\n",
       "            width=\"600\"\n",
       "            height=\"300\"\n",
       "            src=\"http://www.planecrashinfo.com/database.htm\"\n",
       "            frameborder=\"0\"\n",
       "            allowfullscreen\n",
       "        ></iframe>\n",
       "        "
      ],
      "text/plain": [
       "<IPython.lib.display.IFrame at 0x7f0ff1e2d2b0>"
      ]
     },
     "execution_count": 370,
     "metadata": {},
     "output_type": "execute_result"
    }
   ],
   "source": [
    "from IPython.display import IFrame\n",
    "IFrame('http://www.planecrashinfo.com/database.htm', width=600, height=300)"
   ]
  },
  {
   "cell_type": "markdown",
   "metadata": {},
   "source": [
    "##### This page only displays links to years, so our program will need to drill into each year:"
   ]
  },
  {
   "cell_type": "code",
   "execution_count": 366,
   "metadata": {},
   "outputs": [
    {
     "data": {
      "text/html": [
       "\n",
       "        <iframe\n",
       "            width=\"600\"\n",
       "            height=\"250\"\n",
       "            src=\"http://www.planecrashinfo.com/1920/1920.htm\"\n",
       "            frameborder=\"0\"\n",
       "            allowfullscreen\n",
       "        ></iframe>\n",
       "        "
      ],
      "text/plain": [
       "<IPython.lib.display.IFrame at 0x7f0ff1e2deb8>"
      ]
     },
     "execution_count": 366,
     "metadata": {},
     "output_type": "execute_result"
    }
   ],
   "source": [
    "IFrame('http://www.planecrashinfo.com/1920/1920.htm', width=600, height=250)"
   ]
  },
  {
   "cell_type": "markdown",
   "metadata": {},
   "source": [
    "##### Then we can see a list of events with a link again on the left hand side to see the details:"
   ]
  },
  {
   "cell_type": "code",
   "execution_count": 369,
   "metadata": {},
   "outputs": [
    {
     "data": {
      "text/html": [
       "\n",
       "        <iframe\n",
       "            width=\"400\"\n",
       "            height=\"250\"\n",
       "            src=\"http://www.planecrashinfo.com/1920/1920-1.htm\"\n",
       "            frameborder=\"0\"\n",
       "            allowfullscreen\n",
       "        ></iframe>\n",
       "        "
      ],
      "text/plain": [
       "<IPython.lib.display.IFrame at 0x7f0ff1e2d0b8>"
      ]
     },
     "execution_count": 369,
     "metadata": {},
     "output_type": "execute_result"
    }
   ],
   "source": [
    "IFrame('http://www.planecrashinfo.com/1920/1920-1.htm', width=400, height=250)"
   ]
  },
  {
   "cell_type": "markdown",
   "metadata": {},
   "source": [
    "##### This is exactly the data we want to capture"
   ]
  },
  {
   "cell_type": "markdown",
   "metadata": {},
   "source": [
    "## Retrieve data and save to csv"
   ]
  },
  {
   "cell_type": "code",
   "execution_count": 14,
   "metadata": {},
   "outputs": [],
   "source": [
    "# install libs if necessary, my Docker py-spark image did not have those by default\n",
    "# !pip install asyncio\n",
    "# !pip install aiohttp\n",
    "# !pip install aiofiles\n",
    "# !pip install nest_asyncio"
   ]
  },
  {
   "cell_type": "code",
   "execution_count": 213,
   "metadata": {},
   "outputs": [],
   "source": [
    "# import libs\n",
    "import asyncio\n",
    "import aiofiles\n",
    "import aiohttp\n",
    "from bs4 import BeautifulSoup\n",
    "import re\n",
    "import csv"
   ]
  },
  {
   "cell_type": "code",
   "execution_count": 16,
   "metadata": {},
   "outputs": [],
   "source": [
    "# this is needed to get asyncio to work with Jupyter Notebooks\n",
    "import nest_asyncio\n",
    "nest_asyncio.apply()\n",
    "\n",
    "# this will keep the Notebook bit cleaner\n",
    "from IPython.display import clear_output"
   ]
  },
  {
   "cell_type": "code",
   "execution_count": 17,
   "metadata": {},
   "outputs": [],
   "source": [
    "# define handy function to asyncrounously call API end-points\n",
    "async def async_http(base_url, endpoint=''):\n",
    "    async with aiohttp.ClientSession() as session:\n",
    "        abs_url = f'{base_url}/{endpoint}'\n",
    "        async with session.get(abs_url, headers=HEADERS) as resp:\n",
    "            if resp.status == 200:\n",
    "                data = await resp.text()\n",
    "                return data"
   ]
  },
  {
   "cell_type": "code",
   "execution_count": 18,
   "metadata": {},
   "outputs": [],
   "source": [
    "# define global variables for API calls, sometimes it's good to switch \n",
    "# between the user agents to simulate different users\n",
    "# (Catch: be careful if your IP address is still the same though :] )\n",
    "base_url = 'http://www.planecrashinfo.com'\n",
    "HEADERS = {\n",
    "    'user-agent': ('Mozilla/5.0 (Macintosh; Intel Mac OS X 10_10_5) '\n",
    "                   'AppleWebKit/537.36 (KHTML, like Gecko) '\n",
    "                   'Chrome/45.0.2454.101 Safari/537.36'),\n",
    "}"
   ]
  },
  {
   "cell_type": "markdown",
   "metadata": {},
   "source": [
    "##### Retrieve links to sub-pages"
   ]
  },
  {
   "cell_type": "code",
   "execution_count": 26,
   "metadata": {},
   "outputs": [],
   "source": [
    "# initiate asyncio loop\n",
    "loop = asyncio.get_event_loop()\n",
    "\n",
    "# retrieve html and create soup object\n",
    "html = loop.run_until_complete(async_http(base_url, '/database.htm'))\n",
    "\n",
    "# create re-usable function to extract the href's from html content\n",
    "def extract_html_links(html, html_table_id=0):\n",
    "    return [l for l in BeautifulSoup(html, 'html5lib').findAll(\n",
    "        'table')[html_table_id].select('td a[href]')]\n",
    "\n",
    "# Extract links to sub-pages using B-Soup API,\n",
    "# based on HTML - we need to grab a second table,\n",
    "# and within this table, we will get cells and anchor tags,\n",
    "# their href attribute will define a link to the sub-page.\n",
    "# Unforunately tables don't have any id's or classes,\n",
    "# so there is a chance that this code will fail if they\n",
    "# decide to change tables in their HTML\n",
    "links = extract_html_links(html, 1)"
   ]
  },
  {
   "cell_type": "markdown",
   "metadata": {},
   "source": [
    "##### Retrieve data from sub-pages"
   ]
  },
  {
   "cell_type": "markdown",
   "metadata": {},
   "source": [
    "**Sync or Async ???** Before we start the heavy duty stuff, let's run a quick test to compare the speed of retrieving URLs with and without acyncio"
   ]
  },
  {
   "cell_type": "code",
   "execution_count": 22,
   "metadata": {},
   "outputs": [
    {
     "name": "stdout",
     "output_type": "stream",
     "text": [
      "CPU times: user 40 ms, sys: 0 ns, total: 40 ms\n",
      "Wall time: 5.52 s\n"
     ]
    }
   ],
   "source": [
    "%%time\n",
    "# syncronous\n",
    "import requests\n",
    "for l in links[:10]:\n",
    "    text = requests.get(f'{base_url}/{l}').text"
   ]
  },
  {
   "cell_type": "code",
   "execution_count": 23,
   "metadata": {},
   "outputs": [
    {
     "name": "stdout",
     "output_type": "stream",
     "text": [
      "CPU times: user 2.23 s, sys: 30 ms, total: 2.26 s\n",
      "Wall time: 2.77 s\n"
     ]
    }
   ],
   "source": [
    "%%time\n",
    "# asyncronous\n",
    "sub_pages = loop.run_until_complete(asyncio.gather(*(async_http(base_url, l) for l in links[:10])))"
   ]
  },
  {
   "cell_type": "markdown",
   "metadata": {},
   "source": [
    "##### Conclusion:\n",
    "- Async was almost 2+ times faster (in some tests it was 4+ times faster) for 10 requests and this differnt will grow with more requests excuted\n",
    "- We will stick to async from now on as it will be much more efficient (unless we like to meditate while requests are being processed)"
   ]
  },
  {
   "cell_type": "code",
   "execution_count": 24,
   "metadata": {},
   "outputs": [],
   "source": [
    "# get all sub-pages HTML,\n",
    "# each will represent a single year\n",
    "sub_pages = loop.run_until_complete(asyncio.gather(*(async_http(base_url, l) for l in links)))"
   ]
  },
  {
   "cell_type": "code",
   "execution_count": 48,
   "metadata": {},
   "outputs": [],
   "source": [
    "# get all the links for each year\n",
    "links_by_year = [extract_html_links(sp) for sp in sub_pages]"
   ]
  },
  {
   "cell_type": "code",
   "execution_count": 37,
   "metadata": {},
   "outputs": [],
   "source": [
    "# define a function to retrieve multiple HTML contents\n",
    "# in async fashion for each link defined as an argument\n",
    "def get_html_contents(links):\n",
    "    return loop.run_until_complete(asyncio.gather(*(\n",
    "        async_http(base_url, l[:4] + '/' + l) for l in links)))"
   ]
  },
  {
   "cell_type": "code",
   "execution_count": null,
   "metadata": {},
   "outputs": [],
   "source": [
    "# grab content for all the links in each year,\n",
    "# this list will be huge so normally we would process\n",
    "# chunks on the fly instead of filling the RAM\n",
    "content_by_year = [get_html_contents(l) for l in links_by_year]"
   ]
  },
  {
   "cell_type": "code",
   "execution_count": 169,
   "metadata": {},
   "outputs": [],
   "source": [
    "# extract tr tags from table in HTML\n",
    "def extract_crash_info_rows(html):\n",
    "    return [el for el in BeautifulSoup(html, 'html5lib').findAll('table')[0].select('tr')]"
   ]
  },
  {
   "cell_type": "code",
   "execution_count": 170,
   "metadata": {},
   "outputs": [],
   "source": [
    "# extract data element pairs from B-Soup tr tag\n",
    "def extract_tr(row):\n",
    "    return re.findall(u'<b>([a-zA-Z#// \\s]+):<\\/b>.+<font.+>(.+)<\\/font>', str(row.contents))"
   ]
  },
  {
   "cell_type": "code",
   "execution_count": 227,
   "metadata": {},
   "outputs": [],
   "source": [
    "# define simple annonymous function to clean up strings,\n",
    "# ended up not using it as it sticks in b' in the csv,\n",
    "# but might be handy to keep it\n",
    "clean_up_str = lambda x: x.encode('utf-8').strip()"
   ]
  },
  {
   "cell_type": "code",
   "execution_count": 315,
   "metadata": {},
   "outputs": [],
   "source": [
    "# process crash html, for now we are ok if \n",
    "# we can not extract a single crash here and there,\n",
    "# normally we would investigate and fix the issue\n",
    "def process_crash_html(crash_html):\n",
    "    try:\n",
    "        return [extract_tr(row)[0][1] for row in extract_crash_info_rows(crash_html)[1:]]\n",
    "    except Exception as e:\n",
    "        return None"
   ]
  },
  {
   "cell_type": "code",
   "execution_count": 316,
   "metadata": {},
   "outputs": [],
   "source": [
    "# main execution body\n",
    "def main():\n",
    "\n",
    "    # define output file and csv writer\n",
    "    output_file = open('output_2Feb2018.csv', 'w', encoding='utf8')\n",
    "    csv_writer = csv.writer(output_file)\n",
    "\n",
    "    # save initial headers into the file\n",
    "    csv_writer.writerow(['Date', 'Time', 'Location', 'Operator', 'Flight',\n",
    "                        'Route', 'AC_Type', 'Registration', 'cn_ln', 'Aboard',\n",
    "                        'Fatalities', 'Ground', 'Summary'])\n",
    "\n",
    "    # save to csv in batches\n",
    "    for yc in content_by_year:\n",
    "        rows = [process_crash_html(crash_html) for crash_html in yc]\n",
    "        \n",
    "        # make sure that we filter out None records as these cause problems for csv writer\n",
    "        csv_writer.writerows(list(filter(lambda x: x is not None, rows)))\n",
    "\n",
    "main()"
   ]
  },
  {
   "cell_type": "markdown",
   "metadata": {},
   "source": [
    "#### Done\n",
    "Processing is completed and we have a csv file, which can be used further by data scientists or ourselves to dive deeper into the data-set."
   ]
  },
  {
   "cell_type": "markdown",
   "metadata": {},
   "source": [
    "## Analysis\n",
    "- Now that the data is ready in the csv file, we can start investigating it using either statistical libraries or by putting together a UI around it (Tableau or web)\n",
    "- Usually drawing a few plots makes things very clear\n",
    "- As an example - let's calculate a count of accidents per year and then visualise it\n",
    "- There is much more interesting stuff we could do with this data, but unfortunately I am running out of time at this stage..."
   ]
  },
  {
   "cell_type": "code",
   "execution_count": 346,
   "metadata": {},
   "outputs": [],
   "source": [
    "# define any imports here\n",
    "from collections import Counter\n",
    "from matplotlib import pyplot as plt\n",
    "%matplotlib inline"
   ]
  },
  {
   "cell_type": "code",
   "execution_count": 321,
   "metadata": {},
   "outputs": [],
   "source": [
    "# read-in csv file, and skip the file header\n",
    "with open('output_2Feb2018.csv') as myFile:\n",
    "    rows = [r for i, r in enumerate(csv.reader(myFile)) if i > 0]"
   ]
  },
  {
   "cell_type": "code",
   "execution_count": 350,
   "metadata": {},
   "outputs": [
    {
     "data": {
      "image/png": "[encoded data removed]",
      "text/plain": [
       "<matplotlib.figure.Figure at 0x7f0ff1ebf9e8>"
      ]
     },
     "metadata": {},
     "output_type": "display_data"
    }
   ],
   "source": [
    "# grab year by taking last 4 characters from each row and count instances\n",
    "crashes_by_year = dict(Counter([int(r[0][-4:]) for r in rows]))\n",
    "\n",
    "# plot data using matplotlib\n",
    "plt.scatter(x=list(crashes_by_year.keys()), y=list(crashes_by_year.values()));"
   ]
  },
  {
   "cell_type": "markdown",
   "metadata": {},
   "source": [
    "#### Eureka:\n",
    "We might be actually in a good place, number of crashes is going down, while it peaked around the 80's"
   ]
  },
  {
   "cell_type": "markdown",
   "metadata": {},
   "source": [
    "## Conclusion\n",
    "- We were able to successfully process almost 6000 rows of data from a website\n",
    "- This was not actually a very challenging task, but it was simple and allowed us to show-case cool Python techniques to obtain data, which is not available otherwise\n",
    "- Sometimes this is not good enough and we need to be more clever, for example server might block us for executing too many requests or data from the same IP address\n",
    "- Some websites need advanced JavaScript events (like scrolling, clicking, waiting for output, hovering, etc.) - and in those scenarios I would recommend to look at Node's excellent **nightmare** library\n",
    "- Last but not least: all this is only an information, we should always consult the robots.txt file on a particular website and read the terms and conditions\n",
    "- And the very last - **respect personal data**. With power comes responsibility!"
   ]
  }
 ],
 "metadata": {
  "kernelspec": {
   "display_name": "Python 3",
   "language": "python",
   "name": "python3"
  },
  "language_info": {
   "codemirror_mode": {
    "name": "ipython",
    "version": 3
   },
   "file_extension": ".py",
   "mimetype": "text/x-python",
   "name": "python",
   "nbconvert_exporter": "python",
   "pygments_lexer": "ipython3",
   "version": "3.6.5"
  }
 },
 "nbformat": 4,
 "nbformat_minor": 2
}
